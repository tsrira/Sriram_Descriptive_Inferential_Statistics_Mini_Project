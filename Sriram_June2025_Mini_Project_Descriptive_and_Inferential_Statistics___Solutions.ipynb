{
  "nbformat": 4,
  "nbformat_minor": 0,
  "metadata": {
    "colab": {
      "provenance": []
    },
    "kernelspec": {
      "name": "python3",
      "display_name": "Python 3"
    },
    "language_info": {
      "name": "python"
    }
  },
  "cells": [
    {
      "cell_type": "markdown",
      "source": [
        "# **Q1. Key Statistical Definitions**"
      ],
      "metadata": {
        "id": "34PACmskPPgr"
      }
    },
    {
      "cell_type": "markdown",
      "source": [
        "Problem:\n",
        "\n",
        "Write short definitions (2-3 lines each) for the following:\n",
        "\n",
        "● a) Population and Sample\n",
        "\n",
        "● b) Descriptive Statistics and Inferential Statistics\n",
        "\n",
        "● c) Parameter and Statistic\n",
        "\n",
        "● d) Qualitative and Quantitative Data"
      ],
      "metadata": {
        "id": "LBy5CMsDP1xE"
      }
    },
    {
      "cell_type": "markdown",
      "source": [
        "## **a) Population and Sample**\n",
        "\n",
        "**Population:** The complete set of all individuals or items that you're studying.\n",
        "\n",
        "**Sample:** A subset of the population selected for analysis to make inferences about the whole.\n",
        "\n",
        "## **b) Descriptive Statistics and Inferential Statistics**\n",
        "\n",
        "**Descriptive Statistics:** Methods for summarizing and organizing data using measures such as mean, median, and standard deviation.\n",
        "\n",
        "**Inferential Statistics:** Techniques for drawing conclusions or making predictions about a population based on sample data.\n",
        "\n",
        "## **c) Parameter and Statistic**\n",
        "\n",
        "**Parameter:** A numerical value that describes a characteristic of a population (e.g., population mean).\n",
        "\n",
        "**Statistic:** A numerical value that describes a characteristic of a sample (e.g., sample mean).\n",
        "\n",
        "## **d) Qualitative and Quantitative Data**\n",
        "\n",
        "**Qualitative Data:** Non-numeric information that describes categories or labels (e.g., colors, names).\n",
        "\n",
        "**Quantitative Data:** Numeric data that represents measurable quantities (e.g., height, weight)."
      ],
      "metadata": {
        "id": "kLFmY7rCQb1S"
      }
    },
    {
      "cell_type": "markdown",
      "source": [
        "# **Q2. Measures of Central Tendency - Definitions**"
      ],
      "metadata": {
        "id": "OQUv5562XbCx"
      }
    },
    {
      "cell_type": "markdown",
      "source": [
        "Problem:\n",
        "\n",
        "Define the following terms with one example each:\n",
        "\n",
        "● a) Mean\n",
        "\n",
        "● b) Median\n",
        "\n",
        "● c) Mode"
      ],
      "metadata": {
        "id": "ai8BWEjeXgrP"
      }
    },
    {
      "cell_type": "markdown",
      "source": [
        "**a) Mean**\n",
        "\n",
        "Definition: The mean is the average of a set of numbers, calculated by summing all values and dividing by the number of values.\n",
        "\n",
        "Example: For the numbers 4, 6, and 8: Mean = (4 + 6 + 8) / 3 = 18 / 3 = 6\n",
        "\n",
        "**b) Median**\n",
        "\n",
        "Definition: The median is the middle value in an ordered dataset. If there is an even number of values, it's the average of the two middle numbers.\n",
        "\n",
        "Example: For the numbers 3, 7, 9: Median = 7 (the middle value)\n",
        "\n",
        "**c) Mode**\n",
        "\n",
        "Definition: The mode is the value that appears most frequently in a dataset.\n",
        "\n",
        "Example: For the numbers 2, 4, 4, 6, 8: Mode = 4 (it appears twice)"
      ],
      "metadata": {
        "id": "6Ino7sdwXtTt"
      }
    },
    {
      "cell_type": "markdown",
      "source": [
        "# **Q3. Manual Calculation of Mean, Median, and Mode**\n",
        "\n",
        "Objective: Apply manual formulas to real data.\n",
        "\n",
        "Problem:\n",
        "\n",
        "Given the dataset:\n",
        "\n",
        "12, 18, 14, 16, 18, 20, 18, 15, 12, 18, 14, 16, 18, 20, 18, 15\n",
        "\n",
        "Calculate:\n",
        "\n",
        "● a) Mean\n",
        "\n",
        "● b) Median\n",
        "\n",
        "● c) Mode"
      ],
      "metadata": {
        "id": "t-ds8K8lYnBs"
      }
    },
    {
      "cell_type": "code",
      "source": [
        "# Mean"
      ],
      "metadata": {
        "id": "CPOr66MKZ0bO"
      },
      "execution_count": 9,
      "outputs": []
    },
    {
      "cell_type": "code",
      "source": [
        "sum_n = 12 + 18 + 14 + 16 + 18 + 20 + 18 + 15 + 12 + 18 + 14 + 16 + 18 + 20 + 18 + 15"
      ],
      "metadata": {
        "id": "My_F1VyYYybp"
      },
      "execution_count": 10,
      "outputs": []
    },
    {
      "cell_type": "code",
      "source": [
        "sum_n"
      ],
      "metadata": {
        "colab": {
          "base_uri": "https://localhost:8080/"
        },
        "id": "dYgNPTpYZZO5",
        "outputId": "13dcbdd3-3593-4f87-e4d7-f4c1f79f0f55"
      },
      "execution_count": 11,
      "outputs": [
        {
          "output_type": "execute_result",
          "data": {
            "text/plain": [
              "262"
            ]
          },
          "metadata": {},
          "execution_count": 11
        }
      ]
    },
    {
      "cell_type": "code",
      "source": [
        "count_n = len([12, 18, 14, 16, 18, 20, 18, 15, 12, 18, 14, 16, 18, 20, 18, 15])"
      ],
      "metadata": {
        "id": "DYL_vXKOZKar"
      },
      "execution_count": 12,
      "outputs": []
    },
    {
      "cell_type": "code",
      "source": [
        "count_n"
      ],
      "metadata": {
        "colab": {
          "base_uri": "https://localhost:8080/"
        },
        "id": "0uFs8QEpZVlJ",
        "outputId": "420be374-bbd9-4cc6-b737-e5a4b71e9758"
      },
      "execution_count": 13,
      "outputs": [
        {
          "output_type": "execute_result",
          "data": {
            "text/plain": [
              "16"
            ]
          },
          "metadata": {},
          "execution_count": 13
        }
      ]
    },
    {
      "cell_type": "code",
      "source": [
        "mean_n = sum_n/count_n"
      ],
      "metadata": {
        "id": "uZeOp41HZbtS"
      },
      "execution_count": 14,
      "outputs": []
    },
    {
      "cell_type": "code",
      "source": [
        "mean_n"
      ],
      "metadata": {
        "colab": {
          "base_uri": "https://localhost:8080/"
        },
        "id": "7Qs_rcMdZeeT",
        "outputId": "c85f5db4-34ae-4164-a938-8283bdc9d4c8"
      },
      "execution_count": 15,
      "outputs": [
        {
          "output_type": "execute_result",
          "data": {
            "text/plain": [
              "16.375"
            ]
          },
          "metadata": {},
          "execution_count": 15
        }
      ]
    },
    {
      "cell_type": "code",
      "source": [
        "# Median"
      ],
      "metadata": {
        "id": "89RcaHjWZpXp"
      },
      "execution_count": 16,
      "outputs": []
    },
    {
      "cell_type": "code",
      "source": [
        "import statistics"
      ],
      "metadata": {
        "id": "0F8HuTLMaROT"
      },
      "execution_count": 17,
      "outputs": []
    },
    {
      "cell_type": "code",
      "source": [
        "median_n = statistics.median([12, 18, 14, 16, 18, 20, 18, 15, 12, 18, 14, 16, 18, 20, 18, 15])"
      ],
      "metadata": {
        "id": "HuQIL2MbaUO1"
      },
      "execution_count": 18,
      "outputs": []
    },
    {
      "cell_type": "code",
      "source": [
        "median_n"
      ],
      "metadata": {
        "colab": {
          "base_uri": "https://localhost:8080/"
        },
        "id": "Ua3U4YeXaY7n",
        "outputId": "ede1beb2-e325-4645-b1aa-131169eab99b"
      },
      "execution_count": 19,
      "outputs": [
        {
          "output_type": "execute_result",
          "data": {
            "text/plain": [
              "17.0"
            ]
          },
          "metadata": {},
          "execution_count": 19
        }
      ]
    },
    {
      "cell_type": "code",
      "source": [
        "# Mode"
      ],
      "metadata": {
        "id": "6p4fhvyba1e0"
      },
      "execution_count": 20,
      "outputs": []
    },
    {
      "cell_type": "code",
      "source": [
        "mode_n = statistics.mode([12, 18, 14, 16, 18, 20, 18, 15, 12, 18, 14, 16, 18, 20, 18, 15])"
      ],
      "metadata": {
        "id": "TFLUK8rfakDb"
      },
      "execution_count": 21,
      "outputs": []
    },
    {
      "cell_type": "code",
      "source": [
        "mode_n"
      ],
      "metadata": {
        "colab": {
          "base_uri": "https://localhost:8080/"
        },
        "id": "DDMP1Arsav9R",
        "outputId": "a20d063e-b98e-4884-b37f-005e29dc025b"
      },
      "execution_count": 22,
      "outputs": [
        {
          "output_type": "execute_result",
          "data": {
            "text/plain": [
              "18"
            ]
          },
          "metadata": {},
          "execution_count": 22
        }
      ]
    },
    {
      "cell_type": "code",
      "source": [
        "import pandas as pd"
      ],
      "metadata": {
        "id": "S-yRSnuKbBwm"
      },
      "execution_count": 23,
      "outputs": []
    },
    {
      "cell_type": "code",
      "source": [
        "df = pd.DataFrame([12, 18, 14, 16, 18, 20, 18, 15, 12, 18, 14, 16, 18, 20, 18, 15])\n",
        "df.describe()"
      ],
      "metadata": {
        "colab": {
          "base_uri": "https://localhost:8080/",
          "height": 300
        },
        "id": "nZiJm-zibC5m",
        "outputId": "c3cf2249-6e64-4e92-90e4-aa80d3db6049"
      },
      "execution_count": 24,
      "outputs": [
        {
          "output_type": "execute_result",
          "data": {
            "text/plain": [
              "               0\n",
              "count  16.000000\n",
              "mean   16.375000\n",
              "std     2.526526\n",
              "min    12.000000\n",
              "25%    14.750000\n",
              "50%    17.000000\n",
              "75%    18.000000\n",
              "max    20.000000"
            ],
            "text/html": [
              "\n",
              "  <div id=\"df-4f17d9b3-f7e5-470b-9ee9-ba2d3ceefa28\" class=\"colab-df-container\">\n",
              "    <div>\n",
              "<style scoped>\n",
              "    .dataframe tbody tr th:only-of-type {\n",
              "        vertical-align: middle;\n",
              "    }\n",
              "\n",
              "    .dataframe tbody tr th {\n",
              "        vertical-align: top;\n",
              "    }\n",
              "\n",
              "    .dataframe thead th {\n",
              "        text-align: right;\n",
              "    }\n",
              "</style>\n",
              "<table border=\"1\" class=\"dataframe\">\n",
              "  <thead>\n",
              "    <tr style=\"text-align: right;\">\n",
              "      <th></th>\n",
              "      <th>0</th>\n",
              "    </tr>\n",
              "  </thead>\n",
              "  <tbody>\n",
              "    <tr>\n",
              "      <th>count</th>\n",
              "      <td>16.000000</td>\n",
              "    </tr>\n",
              "    <tr>\n",
              "      <th>mean</th>\n",
              "      <td>16.375000</td>\n",
              "    </tr>\n",
              "    <tr>\n",
              "      <th>std</th>\n",
              "      <td>2.526526</td>\n",
              "    </tr>\n",
              "    <tr>\n",
              "      <th>min</th>\n",
              "      <td>12.000000</td>\n",
              "    </tr>\n",
              "    <tr>\n",
              "      <th>25%</th>\n",
              "      <td>14.750000</td>\n",
              "    </tr>\n",
              "    <tr>\n",
              "      <th>50%</th>\n",
              "      <td>17.000000</td>\n",
              "    </tr>\n",
              "    <tr>\n",
              "      <th>75%</th>\n",
              "      <td>18.000000</td>\n",
              "    </tr>\n",
              "    <tr>\n",
              "      <th>max</th>\n",
              "      <td>20.000000</td>\n",
              "    </tr>\n",
              "  </tbody>\n",
              "</table>\n",
              "</div>\n",
              "    <div class=\"colab-df-buttons\">\n",
              "\n",
              "  <div class=\"colab-df-container\">\n",
              "    <button class=\"colab-df-convert\" onclick=\"convertToInteractive('df-4f17d9b3-f7e5-470b-9ee9-ba2d3ceefa28')\"\n",
              "            title=\"Convert this dataframe to an interactive table.\"\n",
              "            style=\"display:none;\">\n",
              "\n",
              "  <svg xmlns=\"http://www.w3.org/2000/svg\" height=\"24px\" viewBox=\"0 -960 960 960\">\n",
              "    <path d=\"M120-120v-720h720v720H120Zm60-500h600v-160H180v160Zm220 220h160v-160H400v160Zm0 220h160v-160H400v160ZM180-400h160v-160H180v160Zm440 0h160v-160H620v160ZM180-180h160v-160H180v160Zm440 0h160v-160H620v160Z\"/>\n",
              "  </svg>\n",
              "    </button>\n",
              "\n",
              "  <style>\n",
              "    .colab-df-container {\n",
              "      display:flex;\n",
              "      gap: 12px;\n",
              "    }\n",
              "\n",
              "    .colab-df-convert {\n",
              "      background-color: #E8F0FE;\n",
              "      border: none;\n",
              "      border-radius: 50%;\n",
              "      cursor: pointer;\n",
              "      display: none;\n",
              "      fill: #1967D2;\n",
              "      height: 32px;\n",
              "      padding: 0 0 0 0;\n",
              "      width: 32px;\n",
              "    }\n",
              "\n",
              "    .colab-df-convert:hover {\n",
              "      background-color: #E2EBFA;\n",
              "      box-shadow: 0px 1px 2px rgba(60, 64, 67, 0.3), 0px 1px 3px 1px rgba(60, 64, 67, 0.15);\n",
              "      fill: #174EA6;\n",
              "    }\n",
              "\n",
              "    .colab-df-buttons div {\n",
              "      margin-bottom: 4px;\n",
              "    }\n",
              "\n",
              "    [theme=dark] .colab-df-convert {\n",
              "      background-color: #3B4455;\n",
              "      fill: #D2E3FC;\n",
              "    }\n",
              "\n",
              "    [theme=dark] .colab-df-convert:hover {\n",
              "      background-color: #434B5C;\n",
              "      box-shadow: 0px 1px 3px 1px rgba(0, 0, 0, 0.15);\n",
              "      filter: drop-shadow(0px 1px 2px rgba(0, 0, 0, 0.3));\n",
              "      fill: #FFFFFF;\n",
              "    }\n",
              "  </style>\n",
              "\n",
              "    <script>\n",
              "      const buttonEl =\n",
              "        document.querySelector('#df-4f17d9b3-f7e5-470b-9ee9-ba2d3ceefa28 button.colab-df-convert');\n",
              "      buttonEl.style.display =\n",
              "        google.colab.kernel.accessAllowed ? 'block' : 'none';\n",
              "\n",
              "      async function convertToInteractive(key) {\n",
              "        const element = document.querySelector('#df-4f17d9b3-f7e5-470b-9ee9-ba2d3ceefa28');\n",
              "        const dataTable =\n",
              "          await google.colab.kernel.invokeFunction('convertToInteractive',\n",
              "                                                    [key], {});\n",
              "        if (!dataTable) return;\n",
              "\n",
              "        const docLinkHtml = 'Like what you see? Visit the ' +\n",
              "          '<a target=\"_blank\" href=https://colab.research.google.com/notebooks/data_table.ipynb>data table notebook</a>'\n",
              "          + ' to learn more about interactive tables.';\n",
              "        element.innerHTML = '';\n",
              "        dataTable['output_type'] = 'display_data';\n",
              "        await google.colab.output.renderOutput(dataTable, element);\n",
              "        const docLink = document.createElement('div');\n",
              "        docLink.innerHTML = docLinkHtml;\n",
              "        element.appendChild(docLink);\n",
              "      }\n",
              "    </script>\n",
              "  </div>\n",
              "\n",
              "\n",
              "    <div id=\"df-549b3861-7090-43a0-ade2-b56bd39bef36\">\n",
              "      <button class=\"colab-df-quickchart\" onclick=\"quickchart('df-549b3861-7090-43a0-ade2-b56bd39bef36')\"\n",
              "                title=\"Suggest charts\"\n",
              "                style=\"display:none;\">\n",
              "\n",
              "<svg xmlns=\"http://www.w3.org/2000/svg\" height=\"24px\"viewBox=\"0 0 24 24\"\n",
              "     width=\"24px\">\n",
              "    <g>\n",
              "        <path d=\"M19 3H5c-1.1 0-2 .9-2 2v14c0 1.1.9 2 2 2h14c1.1 0 2-.9 2-2V5c0-1.1-.9-2-2-2zM9 17H7v-7h2v7zm4 0h-2V7h2v10zm4 0h-2v-4h2v4z\"/>\n",
              "    </g>\n",
              "</svg>\n",
              "      </button>\n",
              "\n",
              "<style>\n",
              "  .colab-df-quickchart {\n",
              "      --bg-color: #E8F0FE;\n",
              "      --fill-color: #1967D2;\n",
              "      --hover-bg-color: #E2EBFA;\n",
              "      --hover-fill-color: #174EA6;\n",
              "      --disabled-fill-color: #AAA;\n",
              "      --disabled-bg-color: #DDD;\n",
              "  }\n",
              "\n",
              "  [theme=dark] .colab-df-quickchart {\n",
              "      --bg-color: #3B4455;\n",
              "      --fill-color: #D2E3FC;\n",
              "      --hover-bg-color: #434B5C;\n",
              "      --hover-fill-color: #FFFFFF;\n",
              "      --disabled-bg-color: #3B4455;\n",
              "      --disabled-fill-color: #666;\n",
              "  }\n",
              "\n",
              "  .colab-df-quickchart {\n",
              "    background-color: var(--bg-color);\n",
              "    border: none;\n",
              "    border-radius: 50%;\n",
              "    cursor: pointer;\n",
              "    display: none;\n",
              "    fill: var(--fill-color);\n",
              "    height: 32px;\n",
              "    padding: 0;\n",
              "    width: 32px;\n",
              "  }\n",
              "\n",
              "  .colab-df-quickchart:hover {\n",
              "    background-color: var(--hover-bg-color);\n",
              "    box-shadow: 0 1px 2px rgba(60, 64, 67, 0.3), 0 1px 3px 1px rgba(60, 64, 67, 0.15);\n",
              "    fill: var(--button-hover-fill-color);\n",
              "  }\n",
              "\n",
              "  .colab-df-quickchart-complete:disabled,\n",
              "  .colab-df-quickchart-complete:disabled:hover {\n",
              "    background-color: var(--disabled-bg-color);\n",
              "    fill: var(--disabled-fill-color);\n",
              "    box-shadow: none;\n",
              "  }\n",
              "\n",
              "  .colab-df-spinner {\n",
              "    border: 2px solid var(--fill-color);\n",
              "    border-color: transparent;\n",
              "    border-bottom-color: var(--fill-color);\n",
              "    animation:\n",
              "      spin 1s steps(1) infinite;\n",
              "  }\n",
              "\n",
              "  @keyframes spin {\n",
              "    0% {\n",
              "      border-color: transparent;\n",
              "      border-bottom-color: var(--fill-color);\n",
              "      border-left-color: var(--fill-color);\n",
              "    }\n",
              "    20% {\n",
              "      border-color: transparent;\n",
              "      border-left-color: var(--fill-color);\n",
              "      border-top-color: var(--fill-color);\n",
              "    }\n",
              "    30% {\n",
              "      border-color: transparent;\n",
              "      border-left-color: var(--fill-color);\n",
              "      border-top-color: var(--fill-color);\n",
              "      border-right-color: var(--fill-color);\n",
              "    }\n",
              "    40% {\n",
              "      border-color: transparent;\n",
              "      border-right-color: var(--fill-color);\n",
              "      border-top-color: var(--fill-color);\n",
              "    }\n",
              "    60% {\n",
              "      border-color: transparent;\n",
              "      border-right-color: var(--fill-color);\n",
              "    }\n",
              "    80% {\n",
              "      border-color: transparent;\n",
              "      border-right-color: var(--fill-color);\n",
              "      border-bottom-color: var(--fill-color);\n",
              "    }\n",
              "    90% {\n",
              "      border-color: transparent;\n",
              "      border-bottom-color: var(--fill-color);\n",
              "    }\n",
              "  }\n",
              "</style>\n",
              "\n",
              "      <script>\n",
              "        async function quickchart(key) {\n",
              "          const quickchartButtonEl =\n",
              "            document.querySelector('#' + key + ' button');\n",
              "          quickchartButtonEl.disabled = true;  // To prevent multiple clicks.\n",
              "          quickchartButtonEl.classList.add('colab-df-spinner');\n",
              "          try {\n",
              "            const charts = await google.colab.kernel.invokeFunction(\n",
              "                'suggestCharts', [key], {});\n",
              "          } catch (error) {\n",
              "            console.error('Error during call to suggestCharts:', error);\n",
              "          }\n",
              "          quickchartButtonEl.classList.remove('colab-df-spinner');\n",
              "          quickchartButtonEl.classList.add('colab-df-quickchart-complete');\n",
              "        }\n",
              "        (() => {\n",
              "          let quickchartButtonEl =\n",
              "            document.querySelector('#df-549b3861-7090-43a0-ade2-b56bd39bef36 button');\n",
              "          quickchartButtonEl.style.display =\n",
              "            google.colab.kernel.accessAllowed ? 'block' : 'none';\n",
              "        })();\n",
              "      </script>\n",
              "    </div>\n",
              "\n",
              "    </div>\n",
              "  </div>\n"
            ],
            "application/vnd.google.colaboratory.intrinsic+json": {
              "type": "dataframe",
              "summary": "{\n  \"name\": \"df\",\n  \"rows\": 8,\n  \"fields\": [\n    {\n      \"column\": 0,\n      \"properties\": {\n        \"dtype\": \"number\",\n        \"std\": 5.400253238397672,\n        \"min\": 2.526525941551627,\n        \"max\": 20.0,\n        \"num_unique_values\": 8,\n        \"samples\": [\n          16.375,\n          17.0,\n          16.0\n        ],\n        \"semantic_type\": \"\",\n        \"description\": \"\"\n      }\n    }\n  ]\n}"
            }
          },
          "metadata": {},
          "execution_count": 24
        }
      ]
    },
    {
      "cell_type": "code",
      "source": [
        "import numpy as np\n",
        "from scipy import stats\n",
        "\n",
        "# Using NumPy to calculate Mean\n",
        "data = [12, 18, 14, 16, 18, 20, 18, 15, 12, 18, 14, 16, 18, 20, 18, 15]\n",
        "mean = np.mean(data)\n",
        "\n",
        "# Using NumPy to calculate Median\n",
        "median = np.median(data)\n",
        "\n",
        "# Using SciPy to calculate Mode\n",
        "mode_result = stats.mode(data)\n",
        "\n",
        "# Print results\n",
        "print(f\"Mean: {mean}\")\n",
        "print(f\"Median: {median}\")\n",
        "print(f\"Mode: {mode_result.mode}, Frequency: {mode_result.count}\")"
      ],
      "metadata": {
        "id": "F0p26U3-bGwS",
        "colab": {
          "base_uri": "https://localhost:8080/"
        },
        "outputId": "1f6c2cbf-a941-425f-e32c-7044687fb942"
      },
      "execution_count": 25,
      "outputs": [
        {
          "output_type": "stream",
          "name": "stdout",
          "text": [
            "Mean: 16.375\n",
            "Median: 17.0\n",
            "Mode: 18, Frequency: 6\n"
          ]
        }
      ]
    },
    {
      "cell_type": "code",
      "source": [],
      "metadata": {
        "id": "gYXIZPUEe172"
      },
      "execution_count": 25,
      "outputs": []
    },
    {
      "cell_type": "markdown",
      "source": [
        "# **Q4. Levels of Measurement**\n",
        "\n",
        "Objective: Understand classification of data types.\n",
        "\n",
        "Problem:\n",
        "\n",
        "Define and give one example for each level of measurement:\n",
        "\n",
        "● a) Nominal\n",
        "\n",
        "● b) Ordinal\n",
        "\n",
        "● c) Interval\n",
        "\n",
        "● d) Ratio"
      ],
      "metadata": {
        "id": "wgOUD6s3cass"
      }
    },
    {
      "cell_type": "markdown",
      "source": [
        "**a) Nominal**\n",
        "\n",
        "Definition: Data that represent categories with no logical order or ranking.\n",
        "\n",
        "Example: Types of fruits Apple, Banana, Orange.\n",
        "\n",
        "**b) Ordinal**\n",
        "\n",
        "Definition: Data that represent categories with a meaningful order, but the differences between values are not uniform or measurable.\n",
        "\n",
        "Example: Customer satisfaction ratings Poor, Fair, Good, Excellent.\n",
        "\n",
        "**c) Interval**\n",
        "\n",
        "Definition: Numeric data with equal intervals between values, but no true zero point.\n",
        "\n",
        "Example: Temperature in Celsius the difference between 20°C and 30°C is meaningful, but 0°C does not mean \"no temperature.\"\n",
        "\n",
        "**d) Ratio**\n",
        "\n",
        "Definition: Numeric data with equal intervals and a true zero point, allowing for meaningful ratios.\n",
        "\n",
        "Example: Weight in kilograms 0 kg means no weight, and 20 kg is twice as heavy as 10 kg."
      ],
      "metadata": {
        "id": "TDcd42ZRclPT"
      }
    },
    {
      "cell_type": "markdown",
      "source": [
        "# **Q5. Variance and Standard Deviation - Theory**\n",
        "Objective: Understand spread/variability in data.\n",
        "\n",
        "Problem:\n",
        "\n",
        "a) Define Variance and Standard Deviation.\n",
        "\n",
        "b) Explain why Standard Deviation is more interpretable than Variance.\n"
      ],
      "metadata": {
        "id": "7KZsf0QPfhwf"
      }
    },
    {
      "cell_type": "markdown",
      "source": [
        "**a) Define Variance and Standard Deviation.**\n",
        "\n",
        "**Variance:**\n",
        "\n",
        "Definition: Variance tells us how much the values in a dataset differ from the average (mean). In simpler terms, it measures how spread out the data is.\n",
        "\n",
        "Example: Imagine two classes of students taking a test:\n",
        "\n",
        "Class A: Scores: 80, 85, 90, 95, 100\n",
        "\n",
        "Class B: Scores: 50, 60, 70, 90, 100\n",
        "\n",
        "Class A has scores that are close to each other, while Class B has scores that vary more widely. The variance for Class B will be higher because the scores are more spread out from the average.\n",
        "\n",
        "**Standard Deviation:**\n",
        "\n",
        "Definition: Standard deviation is just the square root of variance. It also tells us how spread out the data is, but in a way that is easier to understand because it’s in the same unit as the original data.\n",
        "\n",
        "Example: Using the same two classes:\n",
        "\n",
        "Class A: The average score is 90, and the standard deviation might be 5, meaning most scores are within 5 points of the average.\n",
        "\n",
        "Class B: The average score is 70, but the standard deviation could be 20, meaning the scores are more spread out and vary by about 20 points from the average.\n",
        "\n",
        "**Simple Explanation:**\n",
        "\n",
        "Variance: Measures the difference between each value and the average. A large variance means the values are spread out a lot; a small variance means they are close to each other.\n",
        "\n",
        "Standard Deviation: A more understandable version of variance, showing how much each value typically differs from the average in the same units as the data."
      ],
      "metadata": {
        "id": "Z-9BMy34JwOV"
      }
    },
    {
      "cell_type": "markdown",
      "source": [
        "**b) Explain why Standard Deviation is more interpretable than Variance.**\n",
        "\n",
        "Standard deviation is easier to understand because it is in the same units as the original data, making it directly comparable.\n",
        "\n",
        "Variance, however, is in squared units, which makes it harder to relate to the actual data.\n",
        "\n",
        "Example:\n",
        "\n",
        "If you're measuring the height of students in a class in centimeters:\n",
        "\n",
        "If the standard deviation is 5 cm, you can say, \"On average, students' heights differ by 5 cm from the average height.\"\n",
        "\n",
        "If the variance is 25 cm², it's not as easy to understand because it's in square centimeters, which doesn't directly relate to height.\n",
        "\n",
        "So, standard deviation is more user-friendly because it gives a direct sense of the spread in the same units as the data."
      ],
      "metadata": {
        "id": "YhtvLgJ9MtFt"
      }
    },
    {
      "cell_type": "markdown",
      "source": [
        "#**Q6. Manual Calculation - Variance and Standard Deviation**\n",
        "\n",
        "Objective: Practice computing data spread.\n",
        "\n",
        "Problem:\n",
        " Given the data:\n",
        " 8, 10, 12, 14, 16, 10, 12, 14, 16\n",
        "\n",
        "Calculate:\n",
        "\n",
        "a) Sample Variance\n",
        "\n",
        "b) Sample Standard Deviation\n"
      ],
      "metadata": {
        "id": "ZJ2ttDHdTv3-"
      }
    },
    {
      "cell_type": "code",
      "source": [
        "import numpy as np\n",
        "data = [8, 10, 12, 14, 16, 10, 12, 14, 16]"
      ],
      "metadata": {
        "id": "-zQtsu1vULqX"
      },
      "execution_count": 26,
      "outputs": []
    },
    {
      "cell_type": "code",
      "source": [
        "# Population Variance (default in NumPy)\n",
        "population_variance = np.var(data)  # This will use N in the denominator\n",
        "\n",
        "# Population Standard Deviation\n",
        "population_std_deviation = np.std(data)  # This will use N in the denominator\n",
        "\n",
        "\n",
        "# Sample Variance (using ddof=1 Delta Degrees of Freedom for Bessel's correction)\n",
        "sample_variance = np.var(data, ddof=1)  # This will use N-1 in the denominator\n",
        "\n",
        "# Sample Standard Deviation\n",
        "sample_std_deviation = np.std(data, ddof=1)  # This will use N-1 in the denominator\n",
        "\n",
        "# Print results\n",
        "print(f\"Population Variance: {population_variance}\")\n",
        "print(f\"Population Standard Deviation: {population_std_deviation}\")\n",
        "print(f\"Sample Variance: {sample_variance}\")\n",
        "print(f\"Sample Standard Deviation: {sample_std_deviation}\")"
      ],
      "metadata": {
        "colab": {
          "base_uri": "https://localhost:8080/"
        },
        "id": "RNg23d0ZUYDW",
        "outputId": "c6f5e9ac-645f-48b6-c426-9443c05dc63f"
      },
      "execution_count": 27,
      "outputs": [
        {
          "output_type": "stream",
          "name": "stdout",
          "text": [
            "Population Variance: 6.913580246913581\n",
            "Population Standard Deviation: 2.629368792488718\n",
            "Sample Variance: 7.777777777777779\n",
            "Sample Standard Deviation: 2.7888667551135855\n"
          ]
        }
      ]
    },
    {
      "cell_type": "markdown",
      "source": [
        "**Step by Step Manual Calculation of Varience and Standard Deviation**\n",
        "1. Calculate the Mean:\n",
        "The mean (average) is the sum of all data points divided by the number of data points.\n",
        "\n",
        "Mean\n",
        "=\n",
        "∑\n",
        "data points /\n",
        "𝑁\n",
        "\n",
        "\n",
        "Mean\n",
        "=\n",
        "8\n",
        "+\n",
        "10\n",
        "+\n",
        "12\n",
        "+\n",
        "14\n",
        "+\n",
        "16\n",
        "+\n",
        "10\n",
        "+\n",
        "12\n",
        "+\n",
        "14\n",
        "+\n",
        "16/\n",
        "9\n",
        "\n",
        "\n",
        "Mean\n",
        "=\n",
        "112/9\n",
        "=\n",
        "12.44\n",
        "\n",
        "2. Calculate the Variance:\n",
        "Steps to Calculate Variance:\n",
        "For each data point, subtract the mean and square the result.\n",
        "\n",
        "Find the average of those squared differences.\n",
        "\n",
        "Variance = ∑(𝑥𝑖−𝜇)^2/\n",
        "𝑁\n",
        "\n",
        "\n",
        "Where:\n",
        "\n",
        "𝑥\n",
        "𝑖\n",
        "  is each data point\n",
        "\n",
        "𝜇\n",
        "is the mean\n",
        "\n",
        "𝑁\n",
        "is the number of data points\n",
        "\n",
        "Calculation:\n",
        "Let's subtract the mean (12.44) from each data point and square the result:\n",
        "\n",
        "\n",
        "## ✅ 2️⃣ **Compute each squared deviation**\n",
        "\n",
        "| x  | $x - \\bar{x}$      | $(x - \\bar{x})^2$ |\n",
        "| -- | ------------------ | ----------------- |\n",
        "| 8  | 8 - 12.44 = -4.44  | 19.71             |\n",
        "| 10 | 10 - 12.44 = -2.44 | 5.95              |\n",
        "| 12 | 12 - 12.44 = -0.44 | 0.19              |\n",
        "| 14 | 14 - 12.44 =  1.56 | 2.43              |\n",
        "| 16 | 16 - 12.44 =  3.56 | 12.67             |\n",
        "| 10 | 10 - 12.44 = -2.44 | 5.95              |\n",
        "| 12 | 12 - 12.44 = -0.44 | 0.19              |\n",
        "| 14 | 14 - 12.44 =  1.56 | 2.43              |\n",
        "| 16 | 16 - 12.44 =  3.56 | 12.67             |\n",
        "\n",
        "$$\n",
        "19.71 + 5.95 + 0.19 + 2.43 + 12.67 + 5.95 + 0.19 + 2.43 + 12.67 = 62.19\n",
        "$$\n",
        "\n",
        "Finally, divide by the number of data points (N = 9):\n",
        "\n",
        "Variance\n",
        "=\n",
        "62.19/\n",
        "9-1\n",
        "=\n",
        "7.77\n",
        "\n",
        "\n",
        "3. Calculate the Standard Deviation:\n",
        "The Standard Deviation is simply the square root of the variance:\n",
        "\n",
        "Standard Deviation=\n",
        "Sqroot(Variance)\n",
        "​\n",
        "\n",
        "Standard Deviation\n",
        "=\n",
        "Sqroot(7.77)\n",
        "≈\n",
        "2.79\n",
        "\n",
        "Final Results:\n",
        "Variance = 7.77\n",
        "\n",
        "Standard Deviation ≈ 2.79"
      ],
      "metadata": {
        "id": "0m_myiN_XYQU"
      }
    },
    {
      "cell_type": "markdown",
      "source": [
        "#**Q7. Range and Interquartile Range (IQR)**\n",
        "Objective: Use position-based dispersion metrics.\n",
        "\n",
        "Problem:\n",
        "\n",
        " Given the dataset:\n",
        " 22, 29, 25, 31, 35, 40, 45, 48, 50\n",
        "\n",
        "a) Arrange data in ascending order\n",
        "\n",
        "\n",
        "b) Calculate the Range\n",
        "\n",
        "\n",
        "c) Find Q1, Q3, and IQR\n"
      ],
      "metadata": {
        "id": "39a6_w7d3ORS"
      }
    },
    {
      "cell_type": "markdown",
      "source": [
        "**Range:** Difference between the maximum and minimum values.\n",
        "\n",
        "Q1: The first quartile, representing the 25th percentile of the data.\n",
        "\n",
        "Q3: The third quartile, representing the 75th percentile of the data.\n",
        "\n",
        "**IQR:** The difference between Q3 and Q1, showing the spread of the middle 50% of the data."
      ],
      "metadata": {
        "id": "ynm9yWYPIVcg"
      }
    },
    {
      "cell_type": "code",
      "source": [
        "import numpy as np\n",
        "\n",
        "# Given dataset\n",
        "data = [22, 29, 25, 31, 35, 40, 45, 48, 50]"
      ],
      "metadata": {
        "id": "GDPDvD9j3rPJ"
      },
      "execution_count": 28,
      "outputs": []
    },
    {
      "cell_type": "markdown",
      "source": [
        "**a) Arrange data in ascending order**"
      ],
      "metadata": {
        "id": "b9ah3NYM3-LH"
      }
    },
    {
      "cell_type": "code",
      "source": [
        "data_sorted = sorted(data)\n",
        "print(f\"Sorted Data: {data_sorted}\")"
      ],
      "metadata": {
        "colab": {
          "base_uri": "https://localhost:8080/"
        },
        "id": "7kkG0cnf4A8U",
        "outputId": "18345ddc-1ee9-43fe-d536-a41b5de11964"
      },
      "execution_count": 29,
      "outputs": [
        {
          "output_type": "stream",
          "name": "stdout",
          "text": [
            "Sorted Data: [22, 25, 29, 31, 35, 40, 45, 48, 50]\n"
          ]
        }
      ]
    },
    {
      "cell_type": "markdown",
      "source": [
        "**b) Calculate the Range**"
      ],
      "metadata": {
        "id": "xtsNE3kg4KDh"
      }
    },
    {
      "cell_type": "code",
      "source": [
        "range_value = max(data_sorted) - min(data_sorted)\n",
        "print(f\"Range: {range_value}\")"
      ],
      "metadata": {
        "colab": {
          "base_uri": "https://localhost:8080/"
        },
        "id": "M3NLAO4N4Qda",
        "outputId": "10c4edec-47fd-4245-cc23-4c970ddbd235"
      },
      "execution_count": 30,
      "outputs": [
        {
          "output_type": "stream",
          "name": "stdout",
          "text": [
            "Range: 28\n"
          ]
        }
      ]
    },
    {
      "cell_type": "markdown",
      "source": [
        "**c) Find Q1, Q3, and IQR**"
      ],
      "metadata": {
        "id": "ouY4M8IQ4a4V"
      }
    },
    {
      "cell_type": "code",
      "source": [
        "Q1 = np.percentile(data_sorted, 25)\n",
        "Q3 = np.percentile(data_sorted, 75)\n",
        "IQR = Q3 - Q1\n",
        "print(f\"Q1 (First Quartile): {Q1}\")\n",
        "print(f\"Q3 (Third Quartile): {Q3}\")\n",
        "print(f\"IQR (Interquartile Range): {IQR}\")"
      ],
      "metadata": {
        "colab": {
          "base_uri": "https://localhost:8080/"
        },
        "id": "8Q4LTJF84c5n",
        "outputId": "fdb1b0e1-1742-41d1-af6d-4b9f494f0fd7"
      },
      "execution_count": 31,
      "outputs": [
        {
          "output_type": "stream",
          "name": "stdout",
          "text": [
            "Q1 (First Quartile): 29.0\n",
            "Q3 (Third Quartile): 45.0\n",
            "IQR (Interquartile Range): 16.0\n"
          ]
        }
      ]
    },
    {
      "cell_type": "markdown",
      "source": [
        "#**Q8. Five-number Summary and Boxplot Concept**\n",
        "Objective: Summarize distribution of data.\n",
        "\n",
        "Problem:\n",
        "\n",
        "a) Define the Five-number Summary and explain each component:\n",
        "\n",
        "\n",
        "1. Minimum\n",
        "\n",
        "\n",
        "2. Q1 (First Quartile)\n",
        "\n",
        "\n",
        "3. Median\n",
        "\n",
        "\n",
        "4. Q3 (Third Quartile)\n",
        "\n",
        "\n",
        "5. Maximum\n",
        "\n",
        "\n",
        "b) Describe how boxplots help in detecting outliers.\n"
      ],
      "metadata": {
        "id": "U3sd4aeSI1KR"
      }
    },
    {
      "cell_type": "markdown",
      "source": [
        "**a) Five-number Summary:**\n",
        "\n",
        "The Five-number summary is a set of descriptive statistics that provide a quick overview of a dataset’s distribution. It includes the following components:"
      ],
      "metadata": {
        "id": "0On5r06SJOps"
      }
    },
    {
      "cell_type": "markdown",
      "source": [
        "**1. Minimum:**\n",
        "\n",
        "The smallest value in the dataset.\n",
        "\n",
        "Example: For the dataset 22, 29, 25, 31, 35, 40, 45, 48, 50, the minimum is 22."
      ],
      "metadata": {
        "id": "oEdwucQpJYDJ"
      }
    },
    {
      "cell_type": "markdown",
      "source": [
        "**2. Q1 (First Quartile):**\n",
        "\n",
        "The value below which **25%** of the data points fall. It is the median of the lower half of the dataset (excluding the overall median if there is an odd number of data points).\n",
        "\n",
        "\n",
        "Example: For the sorted dataset 22, 25, 29, 31, 35, 40, 45, 48, 50, the lower half is 22, 25, 29, 31, 35 and the Q1 is the median of this lower half, which is 29:\n",
        "\n",
        "Q1=\n",
        "25+29\n",
        "/2 ​\n",
        " = 27"
      ],
      "metadata": {
        "id": "uJ7oT8hWJqZq"
      }
    },
    {
      "cell_type": "markdown",
      "source": [
        "**3. Median:**\n",
        "\n",
        "\n",
        "\n",
        "*  The middle value of the dataset.\n",
        "*  If the dataset has an odd number of data points, it is the value that falls exactly in the middle.\n",
        "*   If it has an even number, it is the average of the two middle values.\n",
        "\n",
        "Example: For the sorted dataset 22, 25, 29, 31, 35, 40, 45, 48, 50, the median is 35, as it is the middle value in the dataset."
      ],
      "metadata": {
        "id": "LGFjOn7oKh4J"
      }
    },
    {
      "cell_type": "markdown",
      "source": [
        "**4. Q3 (Third Quartile):**\n",
        "\n",
        "The value below which 75% of the data points fall. It is the median of the upper half of the dataset.\n",
        "\n",
        "\n",
        "Example: For the sorted dataset 22, 25, 29, 31, 35, 40, 45, 48, 50, the upper half is 35, 40, 45, 48, 50, and the Q3 is the median of this upper half, which is 45.\n",
        "\n",
        "Q3 = 45"
      ],
      "metadata": {
        "id": "C-u2x5S6LXmp"
      }
    },
    {
      "cell_type": "markdown",
      "source": [
        "**5. Maximum:**\n",
        "\n",
        "The largest value in the dataset.\n",
        "\n",
        "Example: For the dataset 22, 29, 25, 31, 35, 40, 45, 48, 50, the maximum is 50."
      ],
      "metadata": {
        "id": "ti-RwqO6MEcn"
      }
    },
    {
      "cell_type": "code",
      "source": [
        "import numpy as np\n",
        "\n",
        "# Given dataset\n",
        "data = [22, 29, 25, 31, 35, 40, 45, 48, 50]\n",
        "\n",
        "# Calculate Five-number summary\n",
        "minimum = np.min(data)\n",
        "Q1 = np.percentile(data, 25)\n",
        "# Numpy uses interpolation for Q1.\n",
        "# So best of the ordered data 22,25,29,31,35,40,45,48,50 is between 25 and 29\n",
        "# i.e. 29 instead of average\n",
        "median = np.median(data)\n",
        "Q3 = np.percentile(data, 75)\n",
        "maximum = np.max(data)\n",
        "\n",
        "# Output the results\n",
        "print(f\"Minimum: {minimum}\")\n",
        "print(f\"Q1 (First Quartile): {Q1}\")\n",
        "print(f\"Median: {median}\")\n",
        "print(f\"Q3 (Third Quartile): {Q3}\")\n",
        "print(f\"Maximum: {maximum}\")"
      ],
      "metadata": {
        "colab": {
          "base_uri": "https://localhost:8080/"
        },
        "id": "_mU5HemAMmON",
        "outputId": "0c65029c-bdff-4dc5-bdce-070efdea28db"
      },
      "execution_count": 32,
      "outputs": [
        {
          "output_type": "stream",
          "name": "stdout",
          "text": [
            "Minimum: 22\n",
            "Q1 (First Quartile): 29.0\n",
            "Median: 35.0\n",
            "Q3 (Third Quartile): 45.0\n",
            "Maximum: 50\n"
          ]
        }
      ]
    },
    {
      "cell_type": "markdown",
      "source": [
        "**b) How Boxplots Help in Detecting Outliers:**\n",
        "\n",
        "A boxplot is a graphical representation of the Five-number summary that helps to visualize the distribution of the data, as well as detect outliers.\n",
        "\n",
        "![image.png](data:image/png;base64,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)"
      ],
      "metadata": {
        "id": "xqfhEabn9UXm"
      }
    },
    {
      "cell_type": "markdown",
      "source": [
        "**Boxplot Components:**\n",
        "\n",
        "*Box :* Represents the interquartile range (IQR), which spans from Q1 to Q3.\n",
        "\n",
        "*Whiskers :* The lines extending from the box represent the range (from minimum to maximum values) but are limited to 1.5 times the IQR (Q3 - Q1). Any points beyond this range are considered outliers.\n",
        "\n",
        "*Median :* A line inside the box represents the median (Q2).\n",
        "\n",
        "**Outlier Detection:**\n",
        "\n",
        "Outliers are data points that fall outside the whiskers (1.5 times the IQR from Q1 and Q3).\n",
        "\n",
        "These data points are represented as individual dots or asterisks outside the box and whiskers in the boxplot.\n",
        "\n",
        "**Outlier Definition:**\n",
        "\n",
        "Lower bound for outliers:\n",
        "Q1−1.5×IQR\n",
        "\n",
        "Upper bound for outliers:\n",
        "Q3+1.5×IQR\n",
        "\n",
        "Any data points outside these bounds are considered outliers."
      ],
      "metadata": {
        "id": "y-jGjYpuP58p"
      }
    },
    {
      "cell_type": "code",
      "source": [
        "import matplotlib.pyplot as plt\n",
        "# Calculate the IQR (Interquartile Range)\n",
        "IQR = Q3 - Q1\n",
        "\n",
        "# Calculate the bounds for detecting outliers\n",
        "lower_bound = Q1 - 1.5 * IQR\n",
        "upper_bound = Q3 + 1.5 * IQR\n",
        "\n",
        "# Detect outliers\n",
        "outliers = [x for x in data if x < lower_bound or x > upper_bound]\n",
        "\n",
        "# Print the Five-number summary and outliers\n",
        "print(f\"Minimum: {minimum}\")\n",
        "print(f\"Q1 (First Quartile): {Q1}\")\n",
        "print(f\"Median: {median}\")\n",
        "print(f\"Q3 (Third Quartile): {Q3}\")\n",
        "print(f\"Maximum: {maximum}\")\n",
        "print(f\"IQR: {IQR}\")\n",
        "print(f\"Lower Bound: {lower_bound}\")\n",
        "print(f\"Upper Bound: {upper_bound}\")\n",
        "print(f\"Outliers: {outliers}\")\n",
        "\n",
        "# Create a boxplot to visualize the data and outliers\n",
        "plt.boxplot(data)\n",
        "plt.title('Boxplot for Outlier Detection')\n",
        "plt.ylabel('Data Values')\n",
        "plt.show()"
      ],
      "metadata": {
        "colab": {
          "base_uri": "https://localhost:8080/",
          "height": 608
        },
        "id": "-BfGx9R6RhDk",
        "outputId": "afa12201-d6a1-4339-ee16-63e12ea90969"
      },
      "execution_count": 33,
      "outputs": [
        {
          "output_type": "stream",
          "name": "stdout",
          "text": [
            "Minimum: 22\n",
            "Q1 (First Quartile): 29.0\n",
            "Median: 35.0\n",
            "Q3 (Third Quartile): 45.0\n",
            "Maximum: 50\n",
            "IQR: 16.0\n",
            "Lower Bound: 5.0\n",
            "Upper Bound: 69.0\n",
            "Outliers: []\n"
          ]
        },
        {
          "output_type": "display_data",
          "data": {
            "text/plain": [
              "<Figure size 640x480 with 1 Axes>"
            ],
            "image/png": "[encoded data removed]"
          },
          "metadata": {}
        }
      ]
    },
    {
      "cell_type": "markdown",
      "source": [
        "Outliers: There are no outliers because all data points lie within the bounds\n",
        "\n",
        "Q1−1.5×IQR and\n",
        "Q3+1.5×IQR. The lower bound is 5 and the upper bound is 69. Since all values are between 22 and 50, no outliers are detected."
      ],
      "metadata": {
        "id": "vCRLzlW8Rv-a"
      }
    },
    {
      "cell_type": "markdown",
      "source": [
        "#**Q9. Confidence Interval for the Mean**\n",
        "Objective: Estimate population means using sample data.\n",
        "\n",
        "Problem:\n",
        "\n",
        " A sample of 36 students has an average height of 162 cm with a standard deviation of 6 cm.\n",
        " Calculate the 95% Confidence Interval for the population mean.\n",
        " (Hint: Use Z = 1.96 for 95% confidence)"
      ],
      "metadata": {
        "id": "Dv04n0r-Taaj"
      }
    },
    {
      "cell_type": "markdown",
      "source": [
        "**Confidence Interval for the Mean:**\n",
        "\n",
        "A Confidence Interval for the Mean is a range of values that is likely to contain the true average (mean) of a population.\n",
        "\n",
        "**Simple Definition:**\n",
        "\n",
        "It is an estimate of where the true mean of a population is likely to be, based on a sample.\n",
        "\n",
        "We express this estimate with a range (upper and lower limits), and we also state the confidence level (usually 95%), which tells us how confident we are that the true mean falls within this range."
      ],
      "metadata": {
        "id": "U8ULPsAkOt9y"
      }
    },
    {
      "cell_type": "markdown",
      "source": [
        "**We are given the following information:***\n",
        "\n",
        "\n",
        "Sample size (\n",
        "𝑛) = 36\n",
        "\n",
        "Sample mean (\n",
        "x̄\n",
        " ) = 162 cm\n",
        "\n",
        "Sample standard deviation (\n",
        "𝑠) = 6 cm\n",
        "\n",
        "Confidence level = 95% (Z-value = 1.96 for 95% confidence)"
      ],
      "metadata": {
        "id": "0LC2HEe4PEcT"
      }
    },
    {
      "cell_type": "markdown",
      "source": [
        "Formula for Confidence Interval:\n",
        "The formula for the Confidence Interval for the population mean is:\n",
        "\n",
        "Confidence Interval=\n",
        "x̄\n",
        " ± Z* s/Sqrt(n)\n",
        " Where:\n",
        "\n",
        "x̄\n",
        " = sample mean\n",
        "\n",
        " Z = Z-value (1.96 for 95% confidence)\n",
        "\n",
        "s = sample standard deviation\n",
        "\n",
        "n = sample size"
      ],
      "metadata": {
        "id": "4WMxmx1fPeda"
      }
    },
    {
      "cell_type": "code",
      "source": [
        "import numpy as np\n",
        "import scipy.stats as stats\n",
        "\n",
        "# Given data\n",
        "sample_mean = 162  # Sample mean (x̄) = 162 cm\n",
        "std_dev = 6        # Sample standard deviation (s) = 6 cm\n",
        "sample_size = 36   # Sample size (n)\n",
        "confidence_level = 0.95  # 95% confidence level\n",
        "\n",
        "# Calculate the standard error of the mean (SE)\n",
        "standard_error = std_dev / np.sqrt(sample_size)\n",
        "\n",
        "# Calculate the Z-value for 95% confidence (Z = 1.96 for 95% confidence)\n",
        "z_value = round(stats.norm.ppf((1 + confidence_level) / 2),2)\n",
        "\n",
        "# Calculate the margin of error\n",
        "margin_of_error = z_value * standard_error\n",
        "\n",
        "# Calculate the confidence interval\n",
        "lower_bound = round(sample_mean - margin_of_error,2)\n",
        "upper_bound = round(sample_mean + margin_of_error,2)\n",
        "\n",
        "population_mean = (sample_mean - (z_value * standard_error) )\n",
        "\n",
        "# Print the results\n",
        "print(f\"Z Value: {z_value}\")\n",
        "print(f\"Standard Error: {standard_error}\")\n",
        "print(f\"Margin of Error: {margin_of_error}\")\n",
        "print(f\"95% Confidence Interval for the population mean: ({lower_bound}, {upper_bound})\")\n",
        "print(f\"Population Mean: {population_mean}\")\n"
      ],
      "metadata": {
        "colab": {
          "base_uri": "https://localhost:8080/"
        },
        "id": "xIhYaJxfQ9MY",
        "outputId": "c537df5b-de9b-484c-a4d8-3e4105fae937"
      },
      "execution_count": 34,
      "outputs": [
        {
          "output_type": "stream",
          "name": "stdout",
          "text": [
            "Z Value: 1.96\n",
            "Standard Error: 1.0\n",
            "Margin of Error: 1.96\n",
            "95% Confidence Interval for the population mean: (160.04, 163.96)\n",
            "Population Mean: 160.04\n"
          ]
        }
      ]
    },
    {
      "cell_type": "markdown",
      "source": [
        "#**Q10. Hypothesis Testing - One Sample Z-Test**\n",
        "\n",
        "Objective: Make decisions using statistical testing.\n",
        "\n",
        "Problem:\n",
        " The average salary in a city is ₹30,000. A random sample of 49 employees has an average salary of ₹31,000 with a standard deviation of ₹4,900.\n",
        " Test the hypothesis at the 5% level of significance to determine if the average salary has increased.\n",
        "\n",
        "a) State the null and alternative hypothesis:\n",
        "\n",
        "\n",
        "b) Calculate the Z-score:\n",
        "\n",
        "\n",
        "c) Conclude the result using critical value (±1.96)\n"
      ],
      "metadata": {
        "id": "ci9RqFGHU8Q-"
      }
    },
    {
      "cell_type": "markdown",
      "source": [
        "**Problem Recap:**\n",
        "\n",
        "Population Mean (μ) = ₹30,000\n",
        "\n",
        "Sample Mean (x̄) = ₹31,000\n",
        "\n",
        "Standard Deviation (σ) = ₹4,900\n",
        "\n",
        "Sample Size (n) = 49\n",
        "\n",
        "Significance Level (α) = 0.05 (5%)\n",
        "\n",
        "We are tasked with determining if the average salary has increased from ₹30,000"
      ],
      "metadata": {
        "id": "s9zmE_1RVo19"
      }
    },
    {
      "cell_type": "markdown",
      "source": [
        "**Step a) State the Null and Alternative Hypothesis:**\n",
        "\n",
        "Null Hypothesis (H₀): The average salary has not increased. (μ = ₹30,000)\n",
        "\n",
        "Alternative Hypothesis (H₁): The average salary has increased. (μ > ₹30,000)\n",
        "\n",
        "This is a one-tailed test since we're only testing if the salary has increased."
      ],
      "metadata": {
        "id": "GQyWm9nTWCEz"
      }
    },
    {
      "cell_type": "markdown",
      "source": [
        "**Step b) Calculate the Z-Score:**\n",
        "\n",
        "To calculate the Z-score for the sample mean, we use the formula:\n",
        "\n",
        "𝑍 = (x̄ - 𝜇) / (𝜎/Sqrt(n))\n",
        "\n",
        "Z = (31000 - 30000) / (4900/Sqrt(49)) = 1000/(4900/7)) = 1000/700\n",
        "\n",
        "Z = 1.43"
      ],
      "metadata": {
        "id": "_BO8jaAPWTb7"
      }
    },
    {
      "cell_type": "code",
      "source": [
        "import math\n",
        "\n",
        "# Given data\n",
        "population_mean = 30000  # Population mean (μ)\n",
        "sample_mean = 31000  # Sample mean (x̄)\n",
        "std_dev = 4900  # Standard deviation (σ)\n",
        "sample_size = 49  # Sample size (n)\n",
        "\n",
        "# Calculate the standard error (σ/√n)\n",
        "standard_error = std_dev / math.sqrt(sample_size)\n",
        "\n",
        "# Calculate the Z-score using the formula: Z = (x̄ - μ) / (σ / √n)\n",
        "z_score = (sample_mean - population_mean) / standard_error\n",
        "\n",
        "# Print the Z-score\n",
        "print(f\"The Z-score is: {z_score:.2f}\")"
      ],
      "metadata": {
        "colab": {
          "base_uri": "https://localhost:8080/"
        },
        "id": "vtuPXtNSX5ti",
        "outputId": "2a798c14-d264-4c01-c627-af6a0db4452d"
      },
      "execution_count": 35,
      "outputs": [
        {
          "output_type": "stream",
          "name": "stdout",
          "text": [
            "The Z-score is: 1.43\n"
          ]
        }
      ]
    },
    {
      "cell_type": "markdown",
      "source": [
        "**Step c) Conclude the Result Using Critical Value (±1.96):**\n",
        "\n",
        "For a one-tailed test at the 5% significance level, the critical value for Z is 1.96.\n",
        "\n",
        "If the Z-score is greater than 1.96, we reject the null hypothesis.\n",
        "\n",
        "If the Z-score is less than or equal to 1.96, we fail to reject the null hypothesis.\n",
        "\n",
        "Since our calculated Z-score = 1.43 is less than 1.96, we fail to reject the null hypothesis."
      ],
      "metadata": {
        "id": "LFe893o4YKlt"
      }
    },
    {
      "cell_type": "markdown",
      "source": [
        "For a two-tailed test at the 5% significance level (α = 0.05), the critical values for Z are ±1.96. This means:\n",
        "\n",
        "If the Z-score is greater than 1.96 or less than -1.96, we reject the null hypothesis.\n",
        "\n",
        "If the Z-score is between -1.96 and 1.96, we fail to reject the null hypothesis.\n",
        "\n"
      ],
      "metadata": {
        "id": "ZXp4Z8FM-g7p"
      }
    },
    {
      "cell_type": "markdown",
      "source": [
        "**Conclusion:**\n",
        "\n",
        "There is not enough evidence to conclude that the average salary has changed (either increased or decreased) from ₹30,000 at the 5% significance level.\n",
        "\n",
        "In simple terms, based on the data you have, we can't say for sure that the\n",
        "average salary is different from ₹30,000."
      ],
      "metadata": {
        "id": "XF6WNgSAYdic"
      }
    }
  ]
}